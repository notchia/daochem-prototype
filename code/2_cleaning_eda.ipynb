{
 "cells": [
  {
   "cell_type": "code",
   "execution_count": 2,
   "metadata": {},
   "outputs": [],
   "source": [
    "import pandas as pd\n",
    "import numpy as np\n",
    "import matplotlib.pyplot as plt\n",
    "import seaborn as sns"
   ]
  },
  {
   "cell_type": "code",
   "execution_count": 15,
   "metadata": {},
   "outputs": [],
   "source": [
    "dao = pd.read_json('../data/boardroom_dao.json', lines=True)\n",
    "proposals = pd.read_json('../data/dao_proposals.json', lines=True)\n",
    "tr_bal = pd.read_json('../data/dao_treasury_balance.json', lines=True)\n",
    "tok_bal = pd.read_json('../data/dao_treasury_token_balance.json', lines=True)\n",
    "tr_tran = pd.read_json('../data/dao_treasury_transactions.json', lines=True)\n",
    "vote = pd.read_json('../data/vote.json', lines=True)"
   ]
  },
  {
   "cell_type": "code",
   "execution_count": null,
   "metadata": {},
   "outputs": [],
   "source": []
  }
 ],
 "metadata": {
  "interpreter": {
   "hash": "3cb97f1d83f7509b06d804007dcb96c6ab417962c4fd7570dc4f1a7dc82dce2f"
  },
  "kernelspec": {
   "display_name": "Python 3.8.8 ('dsi-111')",
   "language": "python",
   "name": "python3"
  },
  "language_info": {
   "codemirror_mode": {
    "name": "ipython",
    "version": 3
   },
   "file_extension": ".py",
   "mimetype": "text/x-python",
   "name": "python",
   "nbconvert_exporter": "python",
   "pygments_lexer": "ipython3",
   "version": "3.8.8"
  },
  "orig_nbformat": 4
 },
 "nbformat": 4,
 "nbformat_minor": 2
}
