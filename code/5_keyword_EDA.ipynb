{
 "cells": [
  {
   "cell_type": "code",
   "execution_count": 10,
   "metadata": {},
   "outputs": [],
   "source": [
    "import pandas as pd\n",
    "import matplotlib.pyplot as plt\n",
    "import seaborn as sns"
   ]
  },
  {
   "cell_type": "code",
   "execution_count": 7,
   "metadata": {},
   "outputs": [],
   "source": [
    "keywords = pd.read_csv('../data/keyword_tweet_count.csv')"
   ]
  },
  {
   "cell_type": "code",
   "execution_count": 8,
   "metadata": {},
   "outputs": [
    {
     "data": {
      "text/html": [
       "<div>\n",
       "<style scoped>\n",
       "    .dataframe tbody tr th:only-of-type {\n",
       "        vertical-align: middle;\n",
       "    }\n",
       "\n",
       "    .dataframe tbody tr th {\n",
       "        vertical-align: top;\n",
       "    }\n",
       "\n",
       "    .dataframe thead th {\n",
       "        text-align: right;\n",
       "    }\n",
       "</style>\n",
       "<table border=\"1\" class=\"dataframe\">\n",
       "  <thead>\n",
       "    <tr style=\"text-align: right;\">\n",
       "      <th></th>\n",
       "      <th>name</th>\n",
       "      <th>key_word_tweet_count</th>\n",
       "      <th>tweet_count</th>\n",
       "      <th>key_word_ratio</th>\n",
       "      <th>likes</th>\n",
       "      <th>follower_count</th>\n",
       "      <th>like_follower_ratio</th>\n",
       "    </tr>\n",
       "  </thead>\n",
       "  <tbody>\n",
       "    <tr>\n",
       "      <th>0</th>\n",
       "      <td>Finance.Vote</td>\n",
       "      <td>146</td>\n",
       "      <td>180</td>\n",
       "      <td>0.811111</td>\n",
       "      <td>1249</td>\n",
       "      <td>7025</td>\n",
       "      <td>0.177794</td>\n",
       "    </tr>\n",
       "    <tr>\n",
       "      <th>1</th>\n",
       "      <td>Compound</td>\n",
       "      <td>104</td>\n",
       "      <td>132</td>\n",
       "      <td>0.787879</td>\n",
       "      <td>7354</td>\n",
       "      <td>218838</td>\n",
       "      <td>0.033605</td>\n",
       "    </tr>\n",
       "    <tr>\n",
       "      <th>2</th>\n",
       "      <td>OceanDAO</td>\n",
       "      <td>25</td>\n",
       "      <td>33</td>\n",
       "      <td>0.757576</td>\n",
       "      <td>448</td>\n",
       "      <td>1988</td>\n",
       "      <td>0.225352</td>\n",
       "    </tr>\n",
       "    <tr>\n",
       "      <th>3</th>\n",
       "      <td>XDAO</td>\n",
       "      <td>97</td>\n",
       "      <td>159</td>\n",
       "      <td>0.610063</td>\n",
       "      <td>1329</td>\n",
       "      <td>6174</td>\n",
       "      <td>0.215258</td>\n",
       "    </tr>\n",
       "    <tr>\n",
       "      <th>4</th>\n",
       "      <td>Collab19</td>\n",
       "      <td>15</td>\n",
       "      <td>25</td>\n",
       "      <td>0.600000</td>\n",
       "      <td>44</td>\n",
       "      <td>52</td>\n",
       "      <td>0.846154</td>\n",
       "    </tr>\n",
       "    <tr>\n",
       "      <th>...</th>\n",
       "      <td>...</td>\n",
       "      <td>...</td>\n",
       "      <td>...</td>\n",
       "      <td>...</td>\n",
       "      <td>...</td>\n",
       "      <td>...</td>\n",
       "      <td>...</td>\n",
       "    </tr>\n",
       "    <tr>\n",
       "      <th>106</th>\n",
       "      <td>Shark DAO</td>\n",
       "      <td>12</td>\n",
       "      <td>159</td>\n",
       "      <td>0.075472</td>\n",
       "      <td>103</td>\n",
       "      <td>6743</td>\n",
       "      <td>0.015275</td>\n",
       "    </tr>\n",
       "    <tr>\n",
       "      <th>107</th>\n",
       "      <td>1inch</td>\n",
       "      <td>10</td>\n",
       "      <td>136</td>\n",
       "      <td>0.073529</td>\n",
       "      <td>1214</td>\n",
       "      <td>1015150</td>\n",
       "      <td>0.001196</td>\n",
       "    </tr>\n",
       "    <tr>\n",
       "      <th>108</th>\n",
       "      <td>Kleros</td>\n",
       "      <td>11</td>\n",
       "      <td>161</td>\n",
       "      <td>0.068323</td>\n",
       "      <td>138</td>\n",
       "      <td>22464</td>\n",
       "      <td>0.006143</td>\n",
       "    </tr>\n",
       "    <tr>\n",
       "      <th>109</th>\n",
       "      <td>CENNZnet Grants DAO</td>\n",
       "      <td>11</td>\n",
       "      <td>164</td>\n",
       "      <td>0.067073</td>\n",
       "      <td>271</td>\n",
       "      <td>7870</td>\n",
       "      <td>0.034435</td>\n",
       "    </tr>\n",
       "    <tr>\n",
       "      <th>110</th>\n",
       "      <td>Buzzed Bear Hideout</td>\n",
       "      <td>11</td>\n",
       "      <td>172</td>\n",
       "      <td>0.063953</td>\n",
       "      <td>81</td>\n",
       "      <td>4387</td>\n",
       "      <td>0.018464</td>\n",
       "    </tr>\n",
       "  </tbody>\n",
       "</table>\n",
       "<p>111 rows × 7 columns</p>\n",
       "</div>"
      ],
      "text/plain": [
       "                    name  key_word_tweet_count  tweet_count  key_word_ratio  \\\n",
       "0           Finance.Vote                   146          180        0.811111   \n",
       "1               Compound                   104          132        0.787879   \n",
       "2               OceanDAO                    25           33        0.757576   \n",
       "3                   XDAO                    97          159        0.610063   \n",
       "4               Collab19                    15           25        0.600000   \n",
       "..                   ...                   ...          ...             ...   \n",
       "106            Shark DAO                    12          159        0.075472   \n",
       "107                1inch                    10          136        0.073529   \n",
       "108               Kleros                    11          161        0.068323   \n",
       "109  CENNZnet Grants DAO                    11          164        0.067073   \n",
       "110  Buzzed Bear Hideout                    11          172        0.063953   \n",
       "\n",
       "     likes  follower_count  like_follower_ratio  \n",
       "0     1249            7025             0.177794  \n",
       "1     7354          218838             0.033605  \n",
       "2      448            1988             0.225352  \n",
       "3     1329            6174             0.215258  \n",
       "4       44              52             0.846154  \n",
       "..     ...             ...                  ...  \n",
       "106    103            6743             0.015275  \n",
       "107   1214         1015150             0.001196  \n",
       "108    138           22464             0.006143  \n",
       "109    271            7870             0.034435  \n",
       "110     81            4387             0.018464  \n",
       "\n",
       "[111 rows x 7 columns]"
      ]
     },
     "execution_count": 8,
     "metadata": {},
     "output_type": "execute_result"
    }
   ],
   "source": [
    "keywords"
   ]
  },
  {
   "cell_type": "code",
   "execution_count": 29,
   "metadata": {},
   "outputs": [
    {
     "name": "stderr",
     "output_type": "stream",
     "text": [
      "/Users/sonnguyen/opt/anaconda3/envs/dsi-111/lib/python3.8/site-packages/seaborn/distributions.py:2557: FutureWarning: `distplot` is a deprecated function and will be removed in a future version. Please adapt your code to use either `displot` (a figure-level function with similar flexibility) or `kdeplot` (an axes-level function for kernel density plots).\n",
      "  warnings.warn(msg, FutureWarning)\n"
     ]
    },
    {
     "data": {
      "text/plain": [
       "Text(0.5, 1.0, 'Keyword Ratio Distribution')"
      ]
     },
     "execution_count": 29,
     "metadata": {},
     "output_type": "execute_result"
    },
    {
     "data": {
      "image/png": "[encoded data removed]",
      "text/plain": [
       "<Figure size 432x288 with 1 Axes>"
      ]
     },
     "metadata": {
      "needs_background": "light"
     },
     "output_type": "display_data"
    }
   ],
   "source": [
    "sns.distplot(\n",
    "    keywords['key_word_ratio'], hist=False, kde=True,\n",
    "    bins = int(75/5), color = 'orange',\n",
    "    hist_kws={'edgecolor':'black'},\n",
    "    kde_kws={'linewidth': 3})\n",
    "plt.title('Keyword Ratio Distribution')"
   ]
  },
  {
   "cell_type": "code",
   "execution_count": 32,
   "metadata": {},
   "outputs": [
    {
     "name": "stderr",
     "output_type": "stream",
     "text": [
      "/Users/sonnguyen/opt/anaconda3/envs/dsi-111/lib/python3.8/site-packages/seaborn/distributions.py:2557: FutureWarning: `distplot` is a deprecated function and will be removed in a future version. Please adapt your code to use either `displot` (a figure-level function with similar flexibility) or `kdeplot` (an axes-level function for kernel density plots).\n",
      "  warnings.warn(msg, FutureWarning)\n"
     ]
    },
    {
     "data": {
      "text/plain": [
       "Text(0.5, 1.0, 'Tweet Like/Follower Ratio Distribution')"
      ]
     },
     "execution_count": 32,
     "metadata": {},
     "output_type": "execute_result"
    },
    {
     "data": {
      "image/png": "[encoded data removed]",
      "text/plain": [
       "<Figure size 432x288 with 1 Axes>"
      ]
     },
     "metadata": {
      "needs_background": "light"
     },
     "output_type": "display_data"
    }
   ],
   "source": [
    "sns.distplot(\n",
    "    keywords['like_follower_ratio'], hist=False, kde=True,\n",
    "    bins = int(75/5), color = 'orange',\n",
    "    hist_kws={'edgecolor':'black'},\n",
    "    kde_kws={'linewidth': 3})\n",
    "plt.title('Tweet Like/Follower Ratio Distribution')"
   ]
  },
  {
   "cell_type": "code",
   "execution_count": null,
   "metadata": {},
   "outputs": [],
   "source": []
  }
 ],
 "metadata": {
  "interpreter": {
   "hash": "3cb97f1d83f7509b06d804007dcb96c6ab417962c4fd7570dc4f1a7dc82dce2f"
  },
  "kernelspec": {
   "display_name": "Python 3.8.8 ('dsi-111')",
   "language": "python",
   "name": "python3"
  },
  "language_info": {
   "codemirror_mode": {
    "name": "ipython",
    "version": 3
   },
   "file_extension": ".py",
   "mimetype": "text/x-python",
   "name": "python",
   "nbconvert_exporter": "python",
   "pygments_lexer": "ipython3",
   "version": "3.8.8"
  },
  "orig_nbformat": 4
 },
 "nbformat": 4,
 "nbformat_minor": 2
}
