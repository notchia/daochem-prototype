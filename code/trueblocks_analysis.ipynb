{
 "cells": [
  {
   "cell_type": "code",
   "execution_count": 67,
   "metadata": {},
   "outputs": [],
   "source": [
    "import os\n",
    "import pandas as pd"
   ]
  },
  {
   "cell_type": "code",
   "execution_count": 68,
   "metadata": {},
   "outputs": [],
   "source": [
    "from modules.config import DATADIR\n",
    "from modules.utils import load_json, print_groupby"
   ]
  },
  {
   "cell_type": "code",
   "execution_count": 69,
   "metadata": {},
   "outputs": [
    {
     "name": "stdout",
     "output_type": "stream",
     "text": [
      "aragon_0.8.1\n"
     ]
    },
    {
     "data": {
      "text/plain": [
       "[{'name': 'baseACL', 'type': 'function', 'inputs': {}},\n",
       " {'name': 'DeployEVMScriptRegistry',\n",
       "  'type': 'event',\n",
       "  'inputs': {'reg': 'address'}},\n",
       " {'name': 'newDAO', 'type': 'function', 'inputs': {'_root': 'address'}},\n",
       " {'name': 'DeployDAO', 'type': 'event', 'inputs': {'dao': 'address'}},\n",
       " {'name': 'regFactory', 'type': 'function', 'inputs': {}},\n",
       " {'name': 'baseKernel', 'type': 'function', 'inputs': {}}]"
      ]
     },
     "execution_count": 69,
     "metadata": {},
     "output_type": "execute_result"
    }
   ],
   "source": [
    "# Load factory contract addresses for each DAO framework\n",
    "df_factories = pd.read_csv(os.path.join(DATADIR, 'framework_factory_contract_addresses.csv'), index_col=False)\n",
    "df_factories.set_index('version', inplace=True)\n",
    "df_factories['abis'] = None\n",
    "\n",
    "# Load abis for each DAO framework\n",
    "for version in df_factories.index:\n",
    "    abis_full = load_json(os.path.join(DATADIR, f\"trueblocks_framework_abis_{version}.json\"))['data']\n",
    "    abis = []\n",
    "    for abi in abis_full:\n",
    "        abiDict = {k: abi[k] for k in ['name', 'type']}\n",
    "        abiDict['inputs'] = {v['name']: v['type'] for v in abi.get('inputs', {})}\n",
    "        abis.append(abiDict)\n",
    "    df_factories.at[version, 'abis'] = abis\n",
    "\n",
    "print(df_factories.index[0])\n",
    "df_factories['abis'][0]"
   ]
  },
  {
   "cell_type": "code",
   "execution_count": 70,
   "metadata": {},
   "outputs": [
    {
     "name": "stdout",
     "output_type": "stream",
     "text": [
      "version\n",
      "aragon_0.6            257\n",
      "aragon_0.7            241\n",
      "aragon_0.8            149\n",
      "aragon_0.8.1          149\n",
      "aragon_court          310\n",
      "daohaus_molochv2.1    241\n",
      "daostack_alchemy      125\n",
      "openlaw_tribute       107\n",
      "Name: id, dtype: int64\n"
     ]
    }
   ],
   "source": [
    "# Load transaction data from all factory contracts by framework version\n",
    "df_transactions = pd.DataFrame()\n",
    "files = [f for f in os.listdir(DATADIR) if f.startswith('trueblocks_export')]\n",
    "for f in files:\n",
    "    version = \"_\".join(os.path.splitext(f)[0].split('_')[2:])\n",
    "    dataDir = load_json(os.path.join(DATADIR, f))\n",
    "    dataList = [{'id': f\"{version}_{k}\",\n",
    "                 'framework': df_factories.at[version, 'framework'],\n",
    "                 'version': version,\n",
    "                 'functionName': v.get('articulatedTx', {}).get('name'),\n",
    "                 'functionInputs': v.get('articulatedTx', {}).get('inputs'),\n",
    "                 'transactionHash': v.get('hash')}\n",
    "                for k, v in dataDir.items() if int(k) != 0]\n",
    "    df_tmp = pd.DataFrame(dataList)\n",
    "    df_transactions = df_transactions.append(df_tmp, ignore_index=True)\n",
    "\n",
    "gb = df_transactions.groupby('version')\n",
    "print(gb['id'].count())"
   ]
  },
  {
   "cell_type": "code",
   "execution_count": 71,
   "metadata": {},
   "outputs": [
    {
     "name": "stdout",
     "output_type": "stream",
     "text": [
      "version\n",
      "aragon_0.8            149\n",
      "aragon_0.8.1          149\n",
      "daohaus_molochv2.1    256\n",
      "daostack_alchemy      122\n",
      "openlaw_tribute       107\n",
      "Name: id, dtype: int64\n"
     ]
    }
   ],
   "source": [
    "# Load contract creation trace data from all factory contracts by framework version\n",
    "files = [f for f in os.listdir(DATADIR) if f.startswith('trueblocks_trace')]\n",
    "df_traces = pd.DataFrame()\n",
    "for f in files:\n",
    "    version = \"_\".join(os.path.splitext(f)[0].split('_')[2:])\n",
    "    dataDir = load_json(os.path.join(DATADIR, f))\n",
    "    # Get contracts created\n",
    "    dataList = []\n",
    "    for key, fullTrace in dataDir.items():\n",
    "        if int(key) != 0:\n",
    "            dataList.append({'id': f\"{version}_{key}\",\n",
    "                            'version': version,\n",
    "                            **fullTrace})\n",
    "    df_tmp = pd.DataFrame(dataList)\n",
    "    df_traces = df_traces.append(df_tmp, ignore_index=True)\n",
    "\n",
    "gb = df_traces.groupby('version')\n",
    "print(gb['id'].count())"
   ]
  },
  {
   "cell_type": "code",
   "execution_count": 76,
   "metadata": {},
   "outputs": [
    {
     "name": "stdout",
     "output_type": "stream",
     "text": [
      "Index(['id', 'framework', 'version', 'functionName', 'functionInputs',\n",
      "       'transactionHash', 'contractsCreated', 'nContracts'],\n",
      "      dtype='object')\n",
      "version\n",
      "aragon_0.6            257\n",
      "aragon_0.7            241\n",
      "aragon_0.8            149\n",
      "aragon_0.8.1          149\n",
      "aragon_court          310\n",
      "daohaus_molochv2.1    241\n",
      "daostack_alchemy      125\n",
      "openlaw_tribute       107\n",
      "Name: id, dtype: int64\n"
     ]
    }
   ],
   "source": [
    "# Merge transaction data with contract creation data\n",
    "df_data = pd.merge(df_transactions, df_traces, on ='id', how =\"outer\", suffixes=(None, \"_y\"))\n",
    "df_data.drop(columns=['version_y'], inplace=True)\n",
    "print(df_data.columns)\n",
    "df_data.to_csv(os.path.join(DATADIR, \"trueblocks_factory_transactions.csv\"))\n",
    "\n",
    "gb = df_data.groupby('version')\n",
    "print(gb['id'].count())"
   ]
  },
  {
   "cell_type": "code",
   "execution_count": 74,
   "metadata": {},
   "outputs": [
    {
     "name": "stdout",
     "output_type": "stream",
     "text": [
      "aragon_0.6\n"
     ]
    },
    {
     "ename": "ValueError",
     "evalue": "('Lengths must match to compare', (257,), (0,))",
     "output_type": "error",
     "traceback": [
      "\u001b[1;31m---------------------------------------------------------------------------\u001b[0m",
      "\u001b[1;31mValueError\u001b[0m                                Traceback (most recent call last)",
      "\u001b[1;32mc:\\Users\\lucia\\Documents\\Metagov\\Repositories\\ethdenver-buidl\\code\\trueblocks_analysis.ipynb Cell 7'\u001b[0m in \u001b[0;36m<module>\u001b[1;34m\u001b[0m\n\u001b[0;32m      <a href='vscode-notebook-cell:/c%3A/Users/lucia/Documents/Metagov/Repositories/ethdenver-buidl/code/trueblocks_analysis.ipynb#ch0000004?line=2'>3</a>\u001b[0m \u001b[39mprint\u001b[39m(key)\n\u001b[0;32m      <a href='vscode-notebook-cell:/c%3A/Users/lucia/Documents/Metagov/Repositories/ethdenver-buidl/code/trueblocks_analysis.ipynb#ch0000004?line=3'>4</a>\u001b[0m df_group \u001b[39m=\u001b[39m pd\u001b[39m.\u001b[39mDataFrame(gb\u001b[39m.\u001b[39mget_group(key))\n\u001b[1;32m----> <a href='vscode-notebook-cell:/c%3A/Users/lucia/Documents/Metagov/Repositories/ethdenver-buidl/code/trueblocks_analysis.ipynb#ch0000004?line=4'>5</a>\u001b[0m df_create \u001b[39m=\u001b[39m df_group[df_group[\u001b[39m\"\u001b[39;49m\u001b[39mcontractsCreated\u001b[39;49m\u001b[39m\"\u001b[39;49m] \u001b[39m==\u001b[39;49m []]\n\u001b[0;32m      <a href='vscode-notebook-cell:/c%3A/Users/lucia/Documents/Metagov/Repositories/ethdenver-buidl/code/trueblocks_analysis.ipynb#ch0000004?line=5'>6</a>\u001b[0m \u001b[39mprint\u001b[39m(\u001b[39mf\u001b[39m\u001b[39m\"\u001b[39m\u001b[39m{\u001b[39;00m\u001b[39mlen\u001b[39m(df_create\u001b[39m.\u001b[39mindex)\u001b[39m}\u001b[39;00m\u001b[39m transactions didn\u001b[39m\u001b[39m'\u001b[39m\u001b[39mt create address\u001b[39m\u001b[39m\"\u001b[39m)\n\u001b[0;32m      <a href='vscode-notebook-cell:/c%3A/Users/lucia/Documents/Metagov/Repositories/ethdenver-buidl/code/trueblocks_analysis.ipynb#ch0000004?line=6'>7</a>\u001b[0m \u001b[39mprint\u001b[39m(df_create)\n",
      "File \u001b[1;32m~\\anaconda3\\envs\\buidl\\lib\\site-packages\\pandas\\core\\ops\\common.py:69\u001b[0m, in \u001b[0;36m_unpack_zerodim_and_defer.<locals>.new_method\u001b[1;34m(self, other)\u001b[0m\n\u001b[0;32m     <a href='file:///~/anaconda3/envs/buidl/lib/site-packages/pandas/core/ops/common.py?line=64'>65</a>\u001b[0m             \u001b[39mreturn\u001b[39;00m \u001b[39mNotImplemented\u001b[39m\n\u001b[0;32m     <a href='file:///~/anaconda3/envs/buidl/lib/site-packages/pandas/core/ops/common.py?line=66'>67</a>\u001b[0m other \u001b[39m=\u001b[39m item_from_zerodim(other)\n\u001b[1;32m---> <a href='file:///~/anaconda3/envs/buidl/lib/site-packages/pandas/core/ops/common.py?line=68'>69</a>\u001b[0m \u001b[39mreturn\u001b[39;00m method(\u001b[39mself\u001b[39;49m, other)\n",
      "File \u001b[1;32m~\\anaconda3\\envs\\buidl\\lib\\site-packages\\pandas\\core\\arraylike.py:32\u001b[0m, in \u001b[0;36mOpsMixin.__eq__\u001b[1;34m(self, other)\u001b[0m\n\u001b[0;32m     <a href='file:///~/anaconda3/envs/buidl/lib/site-packages/pandas/core/arraylike.py?line=29'>30</a>\u001b[0m \u001b[39m@unpack_zerodim_and_defer\u001b[39m(\u001b[39m\"\u001b[39m\u001b[39m__eq__\u001b[39m\u001b[39m\"\u001b[39m)\n\u001b[0;32m     <a href='file:///~/anaconda3/envs/buidl/lib/site-packages/pandas/core/arraylike.py?line=30'>31</a>\u001b[0m \u001b[39mdef\u001b[39;00m \u001b[39m__eq__\u001b[39m(\u001b[39mself\u001b[39m, other):\n\u001b[1;32m---> <a href='file:///~/anaconda3/envs/buidl/lib/site-packages/pandas/core/arraylike.py?line=31'>32</a>\u001b[0m     \u001b[39mreturn\u001b[39;00m \u001b[39mself\u001b[39;49m\u001b[39m.\u001b[39;49m_cmp_method(other, operator\u001b[39m.\u001b[39;49meq)\n",
      "File \u001b[1;32m~\\anaconda3\\envs\\buidl\\lib\\site-packages\\pandas\\core\\series.py:5502\u001b[0m, in \u001b[0;36mSeries._cmp_method\u001b[1;34m(self, other, op)\u001b[0m\n\u001b[0;32m   <a href='file:///~/anaconda3/envs/buidl/lib/site-packages/pandas/core/series.py?line=5498'>5499</a>\u001b[0m rvalues \u001b[39m=\u001b[39m extract_array(other, extract_numpy\u001b[39m=\u001b[39m\u001b[39mTrue\u001b[39;00m, extract_range\u001b[39m=\u001b[39m\u001b[39mTrue\u001b[39;00m)\n\u001b[0;32m   <a href='file:///~/anaconda3/envs/buidl/lib/site-packages/pandas/core/series.py?line=5500'>5501</a>\u001b[0m \u001b[39mwith\u001b[39;00m np\u001b[39m.\u001b[39merrstate(\u001b[39mall\u001b[39m\u001b[39m=\u001b[39m\u001b[39m\"\u001b[39m\u001b[39mignore\u001b[39m\u001b[39m\"\u001b[39m):\n\u001b[1;32m-> <a href='file:///~/anaconda3/envs/buidl/lib/site-packages/pandas/core/series.py?line=5501'>5502</a>\u001b[0m     res_values \u001b[39m=\u001b[39m ops\u001b[39m.\u001b[39;49mcomparison_op(lvalues, rvalues, op)\n\u001b[0;32m   <a href='file:///~/anaconda3/envs/buidl/lib/site-packages/pandas/core/series.py?line=5503'>5504</a>\u001b[0m \u001b[39mreturn\u001b[39;00m \u001b[39mself\u001b[39m\u001b[39m.\u001b[39m_construct_result(res_values, name\u001b[39m=\u001b[39mres_name)\n",
      "File \u001b[1;32m~\\anaconda3\\envs\\buidl\\lib\\site-packages\\pandas\\core\\ops\\array_ops.py:261\u001b[0m, in \u001b[0;36mcomparison_op\u001b[1;34m(left, right, op)\u001b[0m\n\u001b[0;32m    <a href='file:///~/anaconda3/envs/buidl/lib/site-packages/pandas/core/ops/array_ops.py?line=255'>256</a>\u001b[0m \u001b[39mif\u001b[39;00m \u001b[39misinstance\u001b[39m(rvalues, (np\u001b[39m.\u001b[39mndarray, ABCExtensionArray)):\n\u001b[0;32m    <a href='file:///~/anaconda3/envs/buidl/lib/site-packages/pandas/core/ops/array_ops.py?line=256'>257</a>\u001b[0m     \u001b[39m# TODO: make this treatment consistent across ops and classes.\u001b[39;00m\n\u001b[0;32m    <a href='file:///~/anaconda3/envs/buidl/lib/site-packages/pandas/core/ops/array_ops.py?line=257'>258</a>\u001b[0m     \u001b[39m#  We are not catching all listlikes here (e.g. frozenset, tuple)\u001b[39;00m\n\u001b[0;32m    <a href='file:///~/anaconda3/envs/buidl/lib/site-packages/pandas/core/ops/array_ops.py?line=258'>259</a>\u001b[0m     \u001b[39m#  The ambiguous case is object-dtype.  See GH#27803\u001b[39;00m\n\u001b[0;32m    <a href='file:///~/anaconda3/envs/buidl/lib/site-packages/pandas/core/ops/array_ops.py?line=259'>260</a>\u001b[0m     \u001b[39mif\u001b[39;00m \u001b[39mlen\u001b[39m(lvalues) \u001b[39m!=\u001b[39m \u001b[39mlen\u001b[39m(rvalues):\n\u001b[1;32m--> <a href='file:///~/anaconda3/envs/buidl/lib/site-packages/pandas/core/ops/array_ops.py?line=260'>261</a>\u001b[0m         \u001b[39mraise\u001b[39;00m \u001b[39mValueError\u001b[39;00m(\n\u001b[0;32m    <a href='file:///~/anaconda3/envs/buidl/lib/site-packages/pandas/core/ops/array_ops.py?line=261'>262</a>\u001b[0m             \u001b[39m\"\u001b[39m\u001b[39mLengths must match to compare\u001b[39m\u001b[39m\"\u001b[39m, lvalues\u001b[39m.\u001b[39mshape, rvalues\u001b[39m.\u001b[39mshape\n\u001b[0;32m    <a href='file:///~/anaconda3/envs/buidl/lib/site-packages/pandas/core/ops/array_ops.py?line=262'>263</a>\u001b[0m         )\n\u001b[0;32m    <a href='file:///~/anaconda3/envs/buidl/lib/site-packages/pandas/core/ops/array_ops.py?line=264'>265</a>\u001b[0m \u001b[39mif\u001b[39;00m should_extension_dispatch(lvalues, rvalues) \u001b[39mor\u001b[39;00m (\n\u001b[0;32m    <a href='file:///~/anaconda3/envs/buidl/lib/site-packages/pandas/core/ops/array_ops.py?line=265'>266</a>\u001b[0m     (\u001b[39misinstance\u001b[39m(rvalues, (Timedelta, BaseOffset, Timestamp)) \u001b[39mor\u001b[39;00m right \u001b[39mis\u001b[39;00m NaT)\n\u001b[0;32m    <a href='file:///~/anaconda3/envs/buidl/lib/site-packages/pandas/core/ops/array_ops.py?line=266'>267</a>\u001b[0m     \u001b[39mand\u001b[39;00m \u001b[39mnot\u001b[39;00m is_object_dtype(lvalues\u001b[39m.\u001b[39mdtype)\n\u001b[0;32m    <a href='file:///~/anaconda3/envs/buidl/lib/site-packages/pandas/core/ops/array_ops.py?line=267'>268</a>\u001b[0m ):\n\u001b[0;32m    <a href='file:///~/anaconda3/envs/buidl/lib/site-packages/pandas/core/ops/array_ops.py?line=268'>269</a>\u001b[0m     \u001b[39m# Call the method on lvalues\u001b[39;00m\n\u001b[0;32m    <a href='file:///~/anaconda3/envs/buidl/lib/site-packages/pandas/core/ops/array_ops.py?line=269'>270</a>\u001b[0m     res_values \u001b[39m=\u001b[39m op(lvalues, rvalues)\n",
      "\u001b[1;31mValueError\u001b[0m: ('Lengths must match to compare', (257,), (0,))"
     ]
    }
   ],
   "source": [
    "# So what's in the transaction history for each framework?\n",
    "for key, item in gb:\n",
    "    print(key)\n",
    "    df_group = pd.DataFrame(gb.get_group(key))\n",
    "    df_create = df_group[df_group[\"contractsCreated\"] == []]\n",
    "    print(f\"{len(df_create.index)} transactions didn't create address\")\n",
    "    print(df_create)"
   ]
  },
  {
   "cell_type": "markdown",
   "metadata": {},
   "source": []
  }
 ],
 "metadata": {
  "interpreter": {
   "hash": "779319e8d0c9cb286fc27f8b881cb3134a75a38bfb5645a8c7e51f4bba0a5a60"
  },
  "kernelspec": {
   "display_name": "Python 3.9.7 ('buidl')",
   "language": "python",
   "name": "python3"
  },
  "language_info": {
   "codemirror_mode": {
    "name": "ipython",
    "version": 3
   },
   "file_extension": ".py",
   "mimetype": "text/x-python",
   "name": "python",
   "nbconvert_exporter": "python",
   "pygments_lexer": "ipython3",
   "version": "3.9.7"
  },
  "orig_nbformat": 4
 },
 "nbformat": 4,
 "nbformat_minor": 2
}
