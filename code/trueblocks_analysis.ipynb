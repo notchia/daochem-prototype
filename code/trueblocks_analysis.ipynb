{
 "cells": [
  {
   "cell_type": "code",
   "execution_count": 1,
   "metadata": {},
   "outputs": [],
   "source": [
    "import os\n",
    "import pandas as pd"
   ]
  },
  {
   "cell_type": "code",
   "execution_count": 2,
   "metadata": {},
   "outputs": [],
   "source": [
    "from modules.config import DATADIR\n",
    "from modules.utils import load_json, print_groupby"
   ]
  },
  {
   "cell_type": "code",
   "execution_count": 3,
   "metadata": {},
   "outputs": [],
   "source": [
    "# Load factory contract addresses for each DAO framework\n",
    "df_factories = pd.read_csv(os.path.join(DATADIR, 'framework_factory_contract_addresses.csv'), index_col=False)\n",
    "df_factories.set_index('version', inplace=True)"
   ]
  },
  {
   "cell_type": "code",
   "execution_count": 4,
   "metadata": {},
   "outputs": [
    {
     "name": "stdout",
     "output_type": "stream",
     "text": [
      "version\n",
      "aragon_0.6            258\n",
      "aragon_0.7            242\n",
      "aragon_0.8            150\n",
      "aragon_0.8.1          150\n",
      "aragon_court          311\n",
      "daohaus_molochv2.1    242\n",
      "daostack_alchemy      126\n",
      "openlaw_tribute       108\n",
      "Name: index, dtype: int64\n"
     ]
    }
   ],
   "source": [
    "# Load in transaction data from all factory contracts by framework version\n",
    "df_data = pd.DataFrame()\n",
    "files = [f for f in os.listdir(DATADIR) if f.startswith('trueblocks_export')]\n",
    "for f in files:\n",
    "    version = \"_\".join(os.path.splitext(f)[0].split('_')[2:])\n",
    "    dataDir = load_json(os.path.join(DATADIR, f))\n",
    "    dataList = [{'index': k,\n",
    "                 'framework': df_factories.at[version, 'framework'],\n",
    "                 'version': version,\n",
    "                 'functionName': v.get('articulatedTx', {}).get('name'),\n",
    "                 'functionInputs': v.get('articulatedTx', {}).get('inputs'),\n",
    "                 **v}\n",
    "                for k, v in dataDir.items()]\n",
    "    df_tmp = pd.DataFrame(dataList)\n",
    "    df_data = df_data.append(df_tmp, ignore_index=True)\n",
    "\n",
    "gb = df_data.groupby('version')\n",
    "print(gb['index'].count())"
   ]
  },
  {
   "cell_type": "code",
   "execution_count": 16,
   "metadata": {},
   "outputs": [
    {
     "name": "stdout",
     "output_type": "stream",
     "text": [
      "aragon_0.6\n",
      "8 DAOs created\n",
      "['newAPM', 'newInstance']\n",
      "aragon_0.7\n",
      "5 DAOs created\n",
      "['newDAO', 'newInstance']\n",
      "aragon_0.8\n",
      "3 DAOs created\n",
      "['execTransaction', 'execute', 'newTokenAndBaseInstance', 'newTokenAndInstance', 'prepareInstance']\n",
      "aragon_0.8.1\n",
      "2 DAOs created\n",
      "['execTransaction', 'execute', 'newTokenAndBaseInstance', 'prepareInstance']\n",
      "aragon_court\n",
      "3 DAOs created\n",
      "['approveAndCall', 'changeModulesGovernor', 'contributeEth', 'contributeExternalToken', 'ensureCurrentTerm', 'forward', 'setModules', 'unstake', 'vote']\n",
      "daohaus_molochv2.1\n",
      "2 DAOs created\n",
      "['execTransaction', 'execute', 'summonMoloch', 'summonMolochLLC']\n",
      "daostack_alchemy\n",
      "2 DAOs created\n",
      "['addFounders', 'forgeOrg', 'setSchemes']\n",
      "openlaw_tribute\n",
      "16 DAOs created\n",
      "['addAdapters', 'addExtension', 'configureExtension', 'createDao', 'updateAdapter']\n"
     ]
    }
   ],
   "source": [
    "# So what's in the transaction history for each framework?\n",
    "for key, item in gb:\n",
    "    print(key)\n",
    "    df_group = pd.DataFrame(gb.get_group(key))\n",
    "    df_create = df_group[df_group[\"contractAddress\"] != \"0x0\"]\n",
    "    print(f\"{len(df_create.index)} DAOs created\")\n",
    "    \n",
    "    df_update = df_group[df_group[\"contractAddress\"] == \"0x0\"]\n",
    "    gb_update = df_update.groupby(['functionName'])\n",
    "    #print_groupby(gb_update[['version', 'date', 'to', 'functionName', 'functionInputs']])\n",
    "    print(list(gb_update.groups.keys()))"
   ]
  },
  {
   "cell_type": "markdown",
   "metadata": {},
   "source": []
  }
 ],
 "metadata": {
  "interpreter": {
   "hash": "779319e8d0c9cb286fc27f8b881cb3134a75a38bfb5645a8c7e51f4bba0a5a60"
  },
  "kernelspec": {
   "display_name": "Python 3.9.7 ('buidl')",
   "language": "python",
   "name": "python3"
  },
  "language_info": {
   "codemirror_mode": {
    "name": "ipython",
    "version": 3
   },
   "file_extension": ".py",
   "mimetype": "text/x-python",
   "name": "python",
   "nbconvert_exporter": "python",
   "pygments_lexer": "ipython3",
   "version": "3.9.7"
  },
  "orig_nbformat": 4
 },
 "nbformat": 4,
 "nbformat_minor": 2
}
