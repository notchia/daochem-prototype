{
 "cells": [
  {
   "cell_type": "code",
   "execution_count": 12,
   "metadata": {},
   "outputs": [],
   "source": [
    "import os\n",
    "import pandas as pd"
   ]
  },
  {
   "cell_type": "code",
   "execution_count": 13,
   "metadata": {},
   "outputs": [],
   "source": [
    "from modules.config import DATADIR\n",
    "from modules.utils import load_json, print_groupby"
   ]
  },
  {
   "cell_type": "markdown",
   "metadata": {},
   "source": [
    "## Merge factory contract data (transaction function call input data + contract creation from trace)"
   ]
  },
  {
   "cell_type": "code",
   "execution_count": 15,
   "metadata": {},
   "outputs": [
    {
     "data": {
      "text/html": [
       "<div>\n",
       "<style scoped>\n",
       "    .dataframe tbody tr th:only-of-type {\n",
       "        vertical-align: middle;\n",
       "    }\n",
       "\n",
       "    .dataframe tbody tr th {\n",
       "        vertical-align: top;\n",
       "    }\n",
       "\n",
       "    .dataframe thead th {\n",
       "        text-align: right;\n",
       "    }\n",
       "</style>\n",
       "<table border=\"1\" class=\"dataframe\">\n",
       "  <thead>\n",
       "    <tr style=\"text-align: right;\">\n",
       "      <th></th>\n",
       "      <th>framework</th>\n",
       "      <th>factoryAddress</th>\n",
       "      <th>relevantABI</th>\n",
       "      <th>abis</th>\n",
       "      <th>relevantParams</th>\n",
       "    </tr>\n",
       "    <tr>\n",
       "      <th>version</th>\n",
       "      <th></th>\n",
       "      <th></th>\n",
       "      <th></th>\n",
       "      <th></th>\n",
       "      <th></th>\n",
       "    </tr>\n",
       "  </thead>\n",
       "  <tbody>\n",
       "    <tr>\n",
       "      <th>aragon_0.8.1</th>\n",
       "      <td>aragon</td>\n",
       "      <td>0x7378ad1ba8f3c8e64bbb2a04473edd35846360f1</td>\n",
       "      <td>newTokenAndBaseInstance</td>\n",
       "      <td>{'baseACL': {}, 'DeployEVMScriptRegistry': {'r...</td>\n",
       "      <td>None</td>\n",
       "    </tr>\n",
       "    <tr>\n",
       "      <th>aragon_0.8</th>\n",
       "      <td>aragon</td>\n",
       "      <td>0xb9da44c051c6cc9e04b7e0f95e95d69c6a6d8031</td>\n",
       "      <td>newTokenAndBaseInstance</td>\n",
       "      <td>{'baseACL': {}, 'DeployEVMScriptRegistry': {'r...</td>\n",
       "      <td>None</td>\n",
       "    </tr>\n",
       "    <tr>\n",
       "      <th>aragon_0.7</th>\n",
       "      <td>aragon</td>\n",
       "      <td>0xc29f0599df12eb4cbe1a34354c4bac6d944071d1</td>\n",
       "      <td>newInstance</td>\n",
       "      <td>{'baseACL': {}, 'DeployEVMScriptRegistry': {'r...</td>\n",
       "      <td>None</td>\n",
       "    </tr>\n",
       "    <tr>\n",
       "      <th>aragon_0.6</th>\n",
       "      <td>aragon</td>\n",
       "      <td>0x595b34c93aa2c2ba0a38daeede629a0dfbdcc559</td>\n",
       "      <td>newInstance</td>\n",
       "      <td>{'baseACL': {}, 'DeployEVMScriptRegistry': {'r...</td>\n",
       "      <td>None</td>\n",
       "    </tr>\n",
       "    <tr>\n",
       "      <th>aragon_court</th>\n",
       "      <td>aragon</td>\n",
       "      <td>0xee4650cBe7a2B23701D416f58b41D8B76b617797</td>\n",
       "      <td>setConfig</td>\n",
       "      <td>{'ModuleSet': {'id': 'bytes32', 'addr': 'addre...</td>\n",
       "      <td>{'_fromTermId': 'uint64', '_feeToken': 'addres...</td>\n",
       "    </tr>\n",
       "    <tr>\n",
       "      <th>daostack_alchemy</th>\n",
       "      <td>daostack</td>\n",
       "      <td>0x5bcaf9bfd511166a6e0bcfe24b42f5932f43f4b7</td>\n",
       "      <td>forgeOrg</td>\n",
       "      <td>{'setSchemes': {'_avatar': 'address', '_scheme...</td>\n",
       "      <td>{'_orgName': 'string', '_tokenName': 'string',...</td>\n",
       "    </tr>\n",
       "    <tr>\n",
       "      <th>daohaus_molochv2.1</th>\n",
       "      <td>moloch</td>\n",
       "      <td>0x38064F40B20347d58b326E767791A6f79cdEddCe</td>\n",
       "      <td>summonMoloch</td>\n",
       "      <td>{'SummonComplete': {'moloch': 'address', 'summ...</td>\n",
       "      <td>{'_summoner': 'address[]', '_approvedTokens': ...</td>\n",
       "    </tr>\n",
       "    <tr>\n",
       "      <th>openlaw_tribute</th>\n",
       "      <td>tribute</td>\n",
       "      <td>0xf44e53e7474588494b3bec75898278050d99a8ce</td>\n",
       "      <td>createDAO</td>\n",
       "      <td>{'DAOCreated': {'_address': 'address', '_name'...</td>\n",
       "      <td>None</td>\n",
       "    </tr>\n",
       "  </tbody>\n",
       "</table>\n",
       "</div>"
      ],
      "text/plain": [
       "                   framework                              factoryAddress  \\\n",
       "version                                                                    \n",
       "aragon_0.8.1          aragon  0x7378ad1ba8f3c8e64bbb2a04473edd35846360f1   \n",
       "aragon_0.8            aragon  0xb9da44c051c6cc9e04b7e0f95e95d69c6a6d8031   \n",
       "aragon_0.7            aragon  0xc29f0599df12eb4cbe1a34354c4bac6d944071d1   \n",
       "aragon_0.6            aragon  0x595b34c93aa2c2ba0a38daeede629a0dfbdcc559   \n",
       "aragon_court          aragon  0xee4650cBe7a2B23701D416f58b41D8B76b617797   \n",
       "daostack_alchemy    daostack  0x5bcaf9bfd511166a6e0bcfe24b42f5932f43f4b7   \n",
       "daohaus_molochv2.1    moloch  0x38064F40B20347d58b326E767791A6f79cdEddCe   \n",
       "openlaw_tribute      tribute  0xf44e53e7474588494b3bec75898278050d99a8ce   \n",
       "\n",
       "                                relevantABI  \\\n",
       "version                                       \n",
       "aragon_0.8.1        newTokenAndBaseInstance   \n",
       "aragon_0.8          newTokenAndBaseInstance   \n",
       "aragon_0.7                      newInstance   \n",
       "aragon_0.6                      newInstance   \n",
       "aragon_court                      setConfig   \n",
       "daostack_alchemy                   forgeOrg   \n",
       "daohaus_molochv2.1             summonMoloch   \n",
       "openlaw_tribute                   createDAO   \n",
       "\n",
       "                                                                 abis  \\\n",
       "version                                                                 \n",
       "aragon_0.8.1        {'baseACL': {}, 'DeployEVMScriptRegistry': {'r...   \n",
       "aragon_0.8          {'baseACL': {}, 'DeployEVMScriptRegistry': {'r...   \n",
       "aragon_0.7          {'baseACL': {}, 'DeployEVMScriptRegistry': {'r...   \n",
       "aragon_0.6          {'baseACL': {}, 'DeployEVMScriptRegistry': {'r...   \n",
       "aragon_court        {'ModuleSet': {'id': 'bytes32', 'addr': 'addre...   \n",
       "daostack_alchemy    {'setSchemes': {'_avatar': 'address', '_scheme...   \n",
       "daohaus_molochv2.1  {'SummonComplete': {'moloch': 'address', 'summ...   \n",
       "openlaw_tribute     {'DAOCreated': {'_address': 'address', '_name'...   \n",
       "\n",
       "                                                       relevantParams  \n",
       "version                                                                \n",
       "aragon_0.8.1                                                     None  \n",
       "aragon_0.8                                                       None  \n",
       "aragon_0.7                                                       None  \n",
       "aragon_0.6                                                       None  \n",
       "aragon_court        {'_fromTermId': 'uint64', '_feeToken': 'addres...  \n",
       "daostack_alchemy    {'_orgName': 'string', '_tokenName': 'string',...  \n",
       "daohaus_molochv2.1  {'_summoner': 'address[]', '_approvedTokens': ...  \n",
       "openlaw_tribute                                                  None  "
      ]
     },
     "execution_count": 15,
     "metadata": {},
     "output_type": "execute_result"
    }
   ],
   "source": [
    "# Load factory contract addresses for each DAO framework\n",
    "df_factories = pd.read_csv(os.path.join(DATADIR, 'framework_factory_contract_addresses.csv'), index_col=False)\n",
    "df_factories.set_index('version', inplace=True)\n",
    "df_factories['abis'] = None\n",
    "df_factories['relevantParams'] = None\n",
    "\n",
    "# Load abis for each DAO framework\n",
    "for version, row in df_factories.iterrows():\n",
    "    abis_full = load_json(os.path.join(DATADIR, f\"trueblocks_framework_abis_{version}.json\"))['data']\n",
    "    abis = {}\n",
    "    for abi in abis_full:\n",
    "        abiDict = {k: abi[k] for k in ['name', 'type']}\n",
    "        abis[abi['name']] = {v['name']: v['type'] for v in abi.get('inputs', {})}\n",
    "    df_factories.at[version, 'abis'] = abis\n",
    "    try:\n",
    "        df_factories.at[version, 'relevantParams'] = abis[row['relevantABI']]\n",
    "    except KeyError:\n",
    "        df_factories.at[version, 'relevantParams'] = None\n",
    "\n",
    "abiLookup = {i: r['relevantABI'] for i, r in df_factories.iterrows()}\n",
    "\n",
    "df_factories"
   ]
  },
  {
   "cell_type": "code",
   "execution_count": null,
   "metadata": {},
   "outputs": [
    {
     "name": "stdout",
     "output_type": "stream",
     "text": [
      "version\n",
      "aragon_0.6            257\n",
      "aragon_0.7            241\n",
      "aragon_0.8            149\n",
      "aragon_0.8.1          149\n",
      "aragon_court          310\n",
      "daohaus_molochv2.1    241\n",
      "daostack_alchemy      125\n",
      "openlaw_tribute       107\n",
      "Name: id, dtype: int64\n"
     ]
    }
   ],
   "source": [
    "# Load transaction data from all factory contracts by framework version\n",
    "df_transactions = pd.DataFrame()\n",
    "files = [f for f in os.listdir(DATADIR) if f.startswith('trueblocks_export')]\n",
    "for f in files:\n",
    "    version = \"_\".join(os.path.splitext(f)[0].split('_')[2:])\n",
    "    dataDir = load_json(os.path.join(DATADIR, f))\n",
    "    dataList = [{'id': f\"{version}_{k}\",\n",
    "                 'framework': df_factories.at[version, 'framework'],\n",
    "                 'version': version,\n",
    "                 'functionName': v.get('articulatedTx', {}).get('name'),\n",
    "                 'functionInputs': v.get('articulatedTx', {}).get('inputs'),\n",
    "                 'transactionHash': v.get('hash')}\n",
    "                for k, v in dataDir.items() if int(k) != 0]\n",
    "    df_tmp = pd.DataFrame(dataList)\n",
    "    df_transactions = df_transactions.append(df_tmp, ignore_index=True)\n",
    "\n",
    "gb = df_transactions.groupby('version')\n",
    "print(gb['id'].count())"
   ]
  },
  {
   "cell_type": "code",
   "execution_count": null,
   "metadata": {},
   "outputs": [
    {
     "name": "stdout",
     "output_type": "stream",
     "text": [
      "version\n",
      "aragon_0.6            291\n",
      "aragon_0.7            241\n",
      "aragon_0.8            149\n",
      "aragon_0.8.1          149\n",
      "daohaus_molochv2.1    256\n",
      "daostack_alchemy      122\n",
      "openlaw_tribute       107\n",
      "Name: id, dtype: int64\n"
     ]
    }
   ],
   "source": [
    "# Load contract creation trace data from all factory contracts by framework version\n",
    "files = [f for f in os.listdir(DATADIR) if f.startswith('trueblocks_trace')]\n",
    "df_traces = pd.DataFrame()\n",
    "for f in files:\n",
    "    version = \"_\".join(os.path.splitext(f)[0].split('_')[2:])\n",
    "    dataDir = load_json(os.path.join(DATADIR, f))\n",
    "    # Get contracts created\n",
    "    dataList = []\n",
    "    for key, fullTrace in dataDir.items():\n",
    "        if int(key) != 0:\n",
    "            dataList.append({'id': f\"{version}_{key}\",\n",
    "                            'version': version,\n",
    "                            **fullTrace})\n",
    "    df_tmp = pd.DataFrame(dataList)\n",
    "    df_traces = df_traces.append(df_tmp, ignore_index=True)\n",
    "\n",
    "gb = df_traces.groupby('version')\n",
    "print(gb['id'].count())"
   ]
  },
  {
   "cell_type": "code",
   "execution_count": null,
   "metadata": {},
   "outputs": [
    {
     "name": "stdout",
     "output_type": "stream",
     "text": [
      "Index(['id', 'framework', 'version', 'functionName', 'functionInputs',\n",
      "       'transactionHash', 'contractsCreated'],\n",
      "      dtype='object')\n",
      "version\n",
      "aragon_0.6            257\n",
      "aragon_0.7            241\n",
      "aragon_0.8            149\n",
      "aragon_0.8.1          149\n",
      "aragon_court          310\n",
      "daohaus_molochv2.1    241\n",
      "daostack_alchemy      125\n",
      "openlaw_tribute       107\n",
      "Name: id, dtype: int64\n"
     ]
    }
   ],
   "source": [
    "# Merge transaction data with contract creation data\n",
    "df_data = pd.merge(df_transactions, df_traces, on ='id', how =\"outer\", suffixes=(None, \"_y\"))\n",
    "df_data.drop(columns=['version_y'], inplace=True)\n",
    "print(df_data.columns)\n",
    "\n",
    "gb = df_data.groupby('version')\n",
    "print(gb['id'].count())\n",
    "\n",
    "df_data.to_csv(os.path.join(DATADIR, \"trueblocks_factory_transactions_full.csv\"), index=False)"
   ]
  },
  {
   "cell_type": "code",
   "execution_count": null,
   "metadata": {},
   "outputs": [
    {
     "name": "stdout",
     "output_type": "stream",
     "text": [
      "version\n",
      "aragon_0.6            248\n",
      "aragon_0.7            235\n",
      "aragon_0.8            118\n",
      "aragon_0.8.1          139\n",
      "daohaus_molochv2.1    232\n",
      "daostack_alchemy       46\n",
      "openlaw_tribute        25\n",
      "Name: id, dtype: int64\n"
     ]
    }
   ],
   "source": [
    "#print(df_data['functionName'].unique())\n",
    "#print(df_factories['relevantABI'].unique())\n",
    "\n",
    "# Clean data\n",
    "def has_relevant_function(row):\n",
    "    try:\n",
    "        result = abiLookup[row['version']].strip().lower() == row['functionName'].strip().lower()\n",
    "    except (KeyError, AttributeError) as e:\n",
    "        result = False\n",
    "    return result\n",
    "\n",
    "df_data['is_relevant'] = df_data.apply(has_relevant_function, axis=1)\n",
    "df_data_filtered = df_data[df_data['is_relevant']]\n",
    "\n",
    "gb = df_data_filtered.groupby('version')\n",
    "print(gb['id'].count())"
   ]
  },
  {
   "cell_type": "code",
   "execution_count": null,
   "metadata": {},
   "outputs": [],
   "source": [
    "df_data_filtered.to_csv(os.path.join(DATADIR, \"trueblocks_factory_transactions.csv\"), index=False)"
   ]
  },
  {
   "cell_type": "markdown",
   "metadata": {},
   "source": [
    "## Data analysis"
   ]
  },
  {
   "cell_type": "code",
   "execution_count": null,
   "metadata": {},
   "outputs": [],
   "source": [
    "df = df_data_filtered\n",
    "gb = df.groupby(['framework', 'version'])"
   ]
  },
  {
   "cell_type": "code",
   "execution_count": null,
   "metadata": {},
   "outputs": [],
   "source": [
    "for key, item in gb:\n",
    "    print(key)\n",
    "    g = pd.DataFrame(gb.get_group(key))\n"
   ]
  },
  {
   "cell_type": "markdown",
   "metadata": {},
   "source": []
  }
 ],
 "metadata": {
  "interpreter": {
   "hash": "779319e8d0c9cb286fc27f8b881cb3134a75a38bfb5645a8c7e51f4bba0a5a60"
  },
  "kernelspec": {
   "display_name": "Python 3.9.7 ('buidl')",
   "language": "python",
   "name": "python3"
  },
  "language_info": {
   "codemirror_mode": {
    "name": "ipython",
    "version": 3
   },
   "file_extension": ".py",
   "mimetype": "text/x-python",
   "name": "python",
   "nbconvert_exporter": "python",
   "pygments_lexer": "ipython3",
   "version": "3.9.7"
  },
  "orig_nbformat": 4
 },
 "nbformat": 4,
 "nbformat_minor": 2
}
