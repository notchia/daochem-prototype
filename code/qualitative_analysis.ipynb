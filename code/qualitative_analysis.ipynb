{
 "cells": [
  {
   "cell_type": "code",
   "execution_count": 16,
   "metadata": {},
   "outputs": [],
   "source": [
    "import os\n",
    "import requests\n",
    "import pandas as pd\n",
    "import seaborn as sns\n",
    "import matplotlib.pyplot as plt"
   ]
  },
  {
   "cell_type": "code",
   "execution_count": 17,
   "metadata": {},
   "outputs": [],
   "source": [
    "from modules.config import TMPDIR, DATADIR\n",
    "from modules.utils import load_db, normalize_name, print_groupby"
   ]
  },
  {
   "cell_type": "code",
   "execution_count": 18,
   "metadata": {},
   "outputs": [
    {
     "data": {
      "text/plain": [
       "229"
      ]
     },
     "execution_count": 18,
     "metadata": {},
     "output_type": "execute_result"
    }
   ],
   "source": [
    "db = load_db()\n",
    "len(db.index)"
   ]
  },
  {
   "cell_type": "code",
   "execution_count": 19,
   "metadata": {},
   "outputs": [
    {
     "data": {
      "text/plain": [
       "array([None, 'Aave Governance V2', 'Governor Bravo', 'DAOHaus',\n",
       "       'Governor Alpha', 'Aragon', 'Snapshot'], dtype=object)"
      ]
     },
     "execution_count": 19,
     "metadata": {},
     "output_type": "execute_result"
    }
   ],
   "source": [
    "db.framework.unique()"
   ]
  },
  {
   "cell_type": "code",
   "execution_count": 20,
   "metadata": {},
   "outputs": [
    {
     "data": {
      "text/plain": [
       "array(['Protocol', 'Service', 'Investment', 'Social', 'Uncategorized',\n",
       "       'Grants', 'Product', 'Ventures', 'Guilds', 'Clubs', 'Products'],\n",
       "      dtype=object)"
      ]
     },
     "execution_count": 20,
     "metadata": {},
     "output_type": "execute_result"
    }
   ],
   "source": [
    "db.category.unique()"
   ]
  },
  {
   "cell_type": "code",
   "execution_count": 21,
   "metadata": {},
   "outputs": [
    {
     "data": {
      "text/plain": [
       "157"
      ]
     },
     "execution_count": 21,
     "metadata": {},
     "output_type": "execute_result"
    }
   ],
   "source": [
    "# Load survey data\n",
    "columns = ['sentiment_score','decisionmaking_agency','decisionmaking_trust','mission_accomplished','want_need','fulfillment']\n",
    "questions = ['do you feel a sense of agency in the decision-making process?',\n",
    "             'do you trust the decision-making process?',\n",
    "             'does the DAO effectively accomplish its mission?',\n",
    "             'do you feel wanted and/or needed by the DAO?',\n",
    "             'does contributing to this DAO bring you a sense of fulfillment?']\n",
    "df = pd.read_csv(os.path.join(TMPDIR, 'survey_responses.csv'))[['DAO', *columns]]\n",
    "len(df.index)\n",
    "\n",
    "\n"
   ]
  },
  {
   "cell_type": "code",
   "execution_count": 22,
   "metadata": {},
   "outputs": [
    {
     "data": {
      "text/plain": [
       "array(['protein', 'maker', 'baires', 'assange', 'fwb', 'yam', 'jenny',\n",
       "       'padawan', 'poapathon', 'bankless', 'wgmi', 'olympus',\n",
       "       'senpaiswap', 'songaday', 'freeross', 'utopiavc', 'atx',\n",
       "       'ecosystem', 'polygon', 'super', 'dx', 'developer', 'gitcoin',\n",
       "       'blu3', 'juicebox', 'balancer', 'traxa', 'martian', 'open',\n",
       "       'people', 'luna', 'kirby', 'limitless', 'temple', 'uniswap',\n",
       "       'buzzedbears', 'ftw.', 'indexcoop', 'qi', 'wellness', 'canna',\n",
       "       'sovryn.app', 'opscientia', 'opsciantia', 'metawomen', 'metagame',\n",
       "       'reliquary', 'giveth', 'bff', 'ens', '1hive', 'ice', 'gro',\n",
       "       'orange', 'flamingo', 'railgun', 'coordinape', '1inch', 'badger',\n",
       "       'citi', 'moloch', 'blockbuster', 'her', 'ocean', 'creatorcabins',\n",
       "       'taiyorobotics', 'sos', '721', 'yungape', 'treasure',\n",
       "       'theresidence', 'addison', 'blunt', 'irene', 'lightitup',\n",
       "       'daopunks', 'head', 'tiedyeninjas', 'dream', 'dope', 'daorayaki',\n",
       "       'lobsters', 'shitcoin', 'spork', 'fiat', 'daohaus', 'raidguild',\n",
       "       'brightmoments', 'rari', 'ricochetexchange', 'city', 'hero',\n",
       "       'solpics', 'union.finance', 'wowpixies', 'providelegalsupport',\n",
       "       'whale'], dtype=object)"
      ]
     },
     "execution_count": 22,
     "metadata": {},
     "output_type": "execute_result"
    }
   ],
   "source": [
    "# Clean, group and display aggregate results for DAOs i \n",
    "df['daoName'] = df['DAO'].apply(normalize_name)\n",
    "df['daoName'].unique()"
   ]
  },
  {
   "cell_type": "code",
   "execution_count": 23,
   "metadata": {},
   "outputs": [
    {
     "data": {
      "text/html": [
       "<div>\n",
       "<style scoped>\n",
       "    .dataframe tbody tr th:only-of-type {\n",
       "        vertical-align: middle;\n",
       "    }\n",
       "\n",
       "    .dataframe tbody tr th {\n",
       "        vertical-align: top;\n",
       "    }\n",
       "\n",
       "    .dataframe thead tr th {\n",
       "        text-align: left;\n",
       "    }\n",
       "\n",
       "    .dataframe thead tr:last-of-type th {\n",
       "        text-align: right;\n",
       "    }\n",
       "</style>\n",
       "<table border=\"1\" class=\"dataframe\">\n",
       "  <thead>\n",
       "    <tr>\n",
       "      <th></th>\n",
       "      <th>daoName</th>\n",
       "      <th colspan=\"2\" halign=\"left\">sentiment_score</th>\n",
       "      <th colspan=\"2\" halign=\"left\">decisionmaking_agency</th>\n",
       "      <th colspan=\"2\" halign=\"left\">decisionmaking_trust</th>\n",
       "      <th colspan=\"2\" halign=\"left\">mission_accomplished</th>\n",
       "      <th colspan=\"2\" halign=\"left\">want_need</th>\n",
       "      <th colspan=\"2\" halign=\"left\">fulfillment</th>\n",
       "    </tr>\n",
       "    <tr>\n",
       "      <th></th>\n",
       "      <th>count</th>\n",
       "      <th>mean</th>\n",
       "      <th>median</th>\n",
       "      <th>mean</th>\n",
       "      <th>median</th>\n",
       "      <th>mean</th>\n",
       "      <th>median</th>\n",
       "      <th>mean</th>\n",
       "      <th>median</th>\n",
       "      <th>mean</th>\n",
       "      <th>median</th>\n",
       "      <th>mean</th>\n",
       "      <th>median</th>\n",
       "    </tr>\n",
       "    <tr>\n",
       "      <th>daoName</th>\n",
       "      <th></th>\n",
       "      <th></th>\n",
       "      <th></th>\n",
       "      <th></th>\n",
       "      <th></th>\n",
       "      <th></th>\n",
       "      <th></th>\n",
       "      <th></th>\n",
       "      <th></th>\n",
       "      <th></th>\n",
       "      <th></th>\n",
       "      <th></th>\n",
       "      <th></th>\n",
       "    </tr>\n",
       "  </thead>\n",
       "  <tbody>\n",
       "    <tr>\n",
       "      <th>bankless</th>\n",
       "      <td>10</td>\n",
       "      <td>4.175000</td>\n",
       "      <td>4.3</td>\n",
       "      <td>4.1</td>\n",
       "      <td>5.0</td>\n",
       "      <td>4.500000</td>\n",
       "      <td>4.5</td>\n",
       "      <td>4.500000</td>\n",
       "      <td>4.5</td>\n",
       "      <td>4.200000</td>\n",
       "      <td>4.5</td>\n",
       "      <td>4.300000</td>\n",
       "      <td>4.5</td>\n",
       "    </tr>\n",
       "    <tr>\n",
       "      <th>indexcoop</th>\n",
       "      <td>7</td>\n",
       "      <td>4.085714</td>\n",
       "      <td>4.0</td>\n",
       "      <td>4.0</td>\n",
       "      <td>4.0</td>\n",
       "      <td>3.571429</td>\n",
       "      <td>4.0</td>\n",
       "      <td>3.714286</td>\n",
       "      <td>4.0</td>\n",
       "      <td>3.285714</td>\n",
       "      <td>3.0</td>\n",
       "      <td>4.142857</td>\n",
       "      <td>5.0</td>\n",
       "    </tr>\n",
       "    <tr>\n",
       "      <th>juicebox</th>\n",
       "      <td>5</td>\n",
       "      <td>4.380000</td>\n",
       "      <td>4.5</td>\n",
       "      <td>4.8</td>\n",
       "      <td>5.0</td>\n",
       "      <td>4.600000</td>\n",
       "      <td>5.0</td>\n",
       "      <td>4.400000</td>\n",
       "      <td>5.0</td>\n",
       "      <td>4.000000</td>\n",
       "      <td>4.0</td>\n",
       "      <td>4.000000</td>\n",
       "      <td>4.0</td>\n",
       "    </tr>\n",
       "    <tr>\n",
       "      <th>open</th>\n",
       "      <td>8</td>\n",
       "      <td>3.987500</td>\n",
       "      <td>4.1</td>\n",
       "      <td>4.0</td>\n",
       "      <td>4.0</td>\n",
       "      <td>4.125000</td>\n",
       "      <td>4.5</td>\n",
       "      <td>4.125000</td>\n",
       "      <td>4.0</td>\n",
       "      <td>3.750000</td>\n",
       "      <td>3.5</td>\n",
       "      <td>4.125000</td>\n",
       "      <td>4.5</td>\n",
       "    </tr>\n",
       "  </tbody>\n",
       "</table>\n",
       "</div>"
      ],
      "text/plain": [
       "          daoName sentiment_score        decisionmaking_agency         \\\n",
       "            count            mean median                  mean median   \n",
       "daoName                                                                 \n",
       "bankless       10        4.175000    4.3                   4.1    5.0   \n",
       "indexcoop       7        4.085714    4.0                   4.0    4.0   \n",
       "juicebox        5        4.380000    4.5                   4.8    5.0   \n",
       "open            8        3.987500    4.1                   4.0    4.0   \n",
       "\n",
       "          decisionmaking_trust        mission_accomplished        want_need  \\\n",
       "                          mean median                 mean median      mean   \n",
       "daoName                                                                       \n",
       "bankless              4.500000    4.5             4.500000    4.5  4.200000   \n",
       "indexcoop             3.571429    4.0             3.714286    4.0  3.285714   \n",
       "juicebox              4.600000    5.0             4.400000    5.0  4.000000   \n",
       "open                  4.125000    4.5             4.125000    4.0  3.750000   \n",
       "\n",
       "                 fulfillment         \n",
       "          median        mean median  \n",
       "daoName                              \n",
       "bankless     4.5    4.300000    4.5  \n",
       "indexcoop    3.0    4.142857    5.0  \n",
       "juicebox     4.0    4.000000    4.0  \n",
       "open         3.5    4.125000    4.5  "
      ]
     },
     "execution_count": 23,
     "metadata": {},
     "output_type": "execute_result"
    }
   ],
   "source": [
    "gb = df.groupby('daoName').agg({'daoName': ['count'],\n",
    "                                  **{c: ['mean', 'median'] for c in columns}})\n",
    "gb[gb['daoName']['count'] >= 5]"
   ]
  },
  {
   "cell_type": "code",
   "execution_count": 30,
   "metadata": {},
   "outputs": [
    {
     "name": "stderr",
     "output_type": "stream",
     "text": [
      "C:\\Users\\lucia\\AppData\\Local\\Temp\\ipykernel_23024\\1270399084.py:4: FutureWarning: merging between different levels is deprecated and will be removed in a future version. (1 levels on the left,2 on the right)\n",
      "  df_all = pd.merge(db, df_gb, on='daoName', how='right')\n"
     ]
    }
   ],
   "source": [
    "# Compare with other data sources\n",
    "df_gb = pd.DataFrame(gb)\n",
    "df_gb.rename({'daoName': 'all'}, axis=1, inplace=True)\n",
    "df_all = pd.merge(db, df_gb, on='daoName', how='right')\n",
    "survey_columns = df_all.columns[7::2]"
   ]
  },
  {
   "cell_type": "code",
   "execution_count": 31,
   "metadata": {},
   "outputs": [
    {
     "data": {
      "text/html": [
       "<div>\n",
       "<style scoped>\n",
       "    .dataframe tbody tr th:only-of-type {\n",
       "        vertical-align: middle;\n",
       "    }\n",
       "\n",
       "    .dataframe tbody tr th {\n",
       "        vertical-align: top;\n",
       "    }\n",
       "\n",
       "    .dataframe thead tr th {\n",
       "        text-align: left;\n",
       "    }\n",
       "\n",
       "    .dataframe thead tr:last-of-type th {\n",
       "        text-align: right;\n",
       "    }\n",
       "</style>\n",
       "<table border=\"1\" class=\"dataframe\">\n",
       "  <thead>\n",
       "    <tr>\n",
       "      <th></th>\n",
       "      <th>daoName</th>\n",
       "      <th colspan=\"2\" halign=\"left\">(sentiment_score, mean)</th>\n",
       "      <th colspan=\"2\" halign=\"left\">(decisionmaking_agency, mean)</th>\n",
       "      <th colspan=\"2\" halign=\"left\">(decisionmaking_trust, mean)</th>\n",
       "      <th colspan=\"2\" halign=\"left\">(mission_accomplished, mean)</th>\n",
       "      <th colspan=\"2\" halign=\"left\">(want_need, mean)</th>\n",
       "      <th colspan=\"2\" halign=\"left\">(fulfillment, mean)</th>\n",
       "    </tr>\n",
       "    <tr>\n",
       "      <th></th>\n",
       "      <th>count</th>\n",
       "      <th>mean</th>\n",
       "      <th>std</th>\n",
       "      <th>mean</th>\n",
       "      <th>std</th>\n",
       "      <th>mean</th>\n",
       "      <th>std</th>\n",
       "      <th>mean</th>\n",
       "      <th>std</th>\n",
       "      <th>mean</th>\n",
       "      <th>std</th>\n",
       "      <th>mean</th>\n",
       "      <th>std</th>\n",
       "    </tr>\n",
       "    <tr>\n",
       "      <th>framework</th>\n",
       "      <th></th>\n",
       "      <th></th>\n",
       "      <th></th>\n",
       "      <th></th>\n",
       "      <th></th>\n",
       "      <th></th>\n",
       "      <th></th>\n",
       "      <th></th>\n",
       "      <th></th>\n",
       "      <th></th>\n",
       "      <th></th>\n",
       "      <th></th>\n",
       "      <th></th>\n",
       "    </tr>\n",
       "  </thead>\n",
       "  <tbody>\n",
       "    <tr>\n",
       "      <th>Aave Governance V2</th>\n",
       "      <td>4</td>\n",
       "      <td>4.393750</td>\n",
       "      <td>0.251971</td>\n",
       "      <td>3.837500</td>\n",
       "      <td>0.567707</td>\n",
       "      <td>4.500000</td>\n",
       "      <td>0.408248</td>\n",
       "      <td>4.437500</td>\n",
       "      <td>0.426956</td>\n",
       "      <td>4.175000</td>\n",
       "      <td>0.850000</td>\n",
       "      <td>4.450000</td>\n",
       "      <td>0.420317</td>\n",
       "    </tr>\n",
       "    <tr>\n",
       "      <th>DAOHaus</th>\n",
       "      <td>12</td>\n",
       "      <td>4.045407</td>\n",
       "      <td>0.512693</td>\n",
       "      <td>3.872222</td>\n",
       "      <td>1.089420</td>\n",
       "      <td>4.059425</td>\n",
       "      <td>0.538562</td>\n",
       "      <td>4.221329</td>\n",
       "      <td>0.469658</td>\n",
       "      <td>3.676587</td>\n",
       "      <td>0.838894</td>\n",
       "      <td>4.070933</td>\n",
       "      <td>0.513390</td>\n",
       "    </tr>\n",
       "    <tr>\n",
       "      <th>Governor Bravo</th>\n",
       "      <td>3</td>\n",
       "      <td>3.900000</td>\n",
       "      <td>0.866025</td>\n",
       "      <td>4.000000</td>\n",
       "      <td>1.000000</td>\n",
       "      <td>3.666667</td>\n",
       "      <td>1.527525</td>\n",
       "      <td>3.333333</td>\n",
       "      <td>1.527525</td>\n",
       "      <td>4.333333</td>\n",
       "      <td>0.577350</td>\n",
       "      <td>3.333333</td>\n",
       "      <td>1.527525</td>\n",
       "    </tr>\n",
       "  </tbody>\n",
       "</table>\n",
       "</div>"
      ],
      "text/plain": [
       "                   daoName (sentiment_score, mean)            \\\n",
       "                     count                    mean       std   \n",
       "framework                                                      \n",
       "Aave Governance V2       4                4.393750  0.251971   \n",
       "DAOHaus                 12                4.045407  0.512693   \n",
       "Governor Bravo           3                3.900000  0.866025   \n",
       "\n",
       "                   (decisionmaking_agency, mean)            \\\n",
       "                                            mean       std   \n",
       "framework                                                    \n",
       "Aave Governance V2                      3.837500  0.567707   \n",
       "DAOHaus                                 3.872222  1.089420   \n",
       "Governor Bravo                          4.000000  1.000000   \n",
       "\n",
       "                   (decisionmaking_trust, mean)            \\\n",
       "                                           mean       std   \n",
       "framework                                                   \n",
       "Aave Governance V2                     4.500000  0.408248   \n",
       "DAOHaus                                4.059425  0.538562   \n",
       "Governor Bravo                         3.666667  1.527525   \n",
       "\n",
       "                   (mission_accomplished, mean)           (want_need, mean)  \\\n",
       "                                           mean       std              mean   \n",
       "framework                                                                     \n",
       "Aave Governance V2                     4.437500  0.426956          4.175000   \n",
       "DAOHaus                                4.221329  0.469658          3.676587   \n",
       "Governor Bravo                         3.333333  1.527525          4.333333   \n",
       "\n",
       "                             (fulfillment, mean)            \n",
       "                         std                mean       std  \n",
       "framework                                                   \n",
       "Aave Governance V2  0.850000            4.450000  0.420317  \n",
       "DAOHaus             0.838894            4.070933  0.513390  \n",
       "Governor Bravo      0.577350            3.333333  1.527525  "
      ]
     },
     "execution_count": 31,
     "metadata": {},
     "output_type": "execute_result"
    }
   ],
   "source": [
    "gb_framework = df_all.groupby('framework').agg({'daoName': ['count'],\n",
    "                                  **{c: ['mean', 'std'] for c in survey_columns}})\n",
    "gb_framework = gb_framework[gb_framework['daoName']['count'] > 1]\n",
    "gb_framework"
   ]
  },
  {
   "cell_type": "code",
   "execution_count": 32,
   "metadata": {},
   "outputs": [
    {
     "data": {
      "image/png": "[encoded data removed]",
      "text/plain": [
       "<Figure size 1152x432 with 1 Axes>"
      ]
     },
     "metadata": {
      "needs_background": "light"
     },
     "output_type": "display_data"
    },
    {
     "data": {
      "image/png": "[encoded data removed]",
      "text/plain": [
       "<Figure size 1152x432 with 1 Axes>"
      ]
     },
     "metadata": {
      "needs_background": "light"
     },
     "output_type": "display_data"
    },
    {
     "data": {
      "image/png": "[encoded data removed]",
      "text/plain": [
       "<Figure size 1152x432 with 1 Axes>"
      ]
     },
     "metadata": {
      "needs_background": "light"
     },
     "output_type": "display_data"
    },
    {
     "data": {
      "image/png": "[encoded data removed]",
      "text/plain": [
       "<Figure size 1152x432 with 1 Axes>"
      ]
     },
     "metadata": {
      "needs_background": "light"
     },
     "output_type": "display_data"
    },
    {
     "data": {
      "image/png": "[encoded data removed]",
      "text/plain": [
       "<Figure size 1152x432 with 1 Axes>"
      ]
     },
     "metadata": {
      "needs_background": "light"
     },
     "output_type": "display_data"
    },
    {
     "data": {
      "image/png": "[encoded data removed]",
      "text/plain": [
       "<Figure size 1152x432 with 1 Axes>"
      ]
     },
     "metadata": {
      "needs_background": "light"
     },
     "output_type": "display_data"
    }
   ],
   "source": [
    "for c in gb_framework.columns[1::2]:\n",
    "    df = gb_framework[c]\n",
    "    plt.figure(figsize=(16, 6))\n",
    "    sns.barplot(x=gb_framework.index, y=c, data=gb_framework, ci=None)\n",
    "    plt.xlabel('Framework', fontsize=18)\n",
    "    plt.savefig(os.path.join(TMPDIR, f\"survey_vs_framework_{c}.svg\"), dpi=300)\n",
    "    plt.savefig(os.path.join(TMPDIR, f\"survey_vs_framework_{c}.png\"), dpi=300)"
   ]
  },
  {
   "cell_type": "code",
   "execution_count": 33,
   "metadata": {},
   "outputs": [
    {
     "data": {
      "text/html": [
       "<div>\n",
       "<style scoped>\n",
       "    .dataframe tbody tr th:only-of-type {\n",
       "        vertical-align: middle;\n",
       "    }\n",
       "\n",
       "    .dataframe tbody tr th {\n",
       "        vertical-align: top;\n",
       "    }\n",
       "\n",
       "    .dataframe thead tr th {\n",
       "        text-align: left;\n",
       "    }\n",
       "\n",
       "    .dataframe thead tr:last-of-type th {\n",
       "        text-align: right;\n",
       "    }\n",
       "</style>\n",
       "<table border=\"1\" class=\"dataframe\">\n",
       "  <thead>\n",
       "    <tr>\n",
       "      <th></th>\n",
       "      <th>daoName</th>\n",
       "      <th>(sentiment_score, mean)</th>\n",
       "      <th>(decisionmaking_agency, mean)</th>\n",
       "      <th>(decisionmaking_trust, mean)</th>\n",
       "      <th>(mission_accomplished, mean)</th>\n",
       "      <th>(want_need, mean)</th>\n",
       "      <th>(fulfillment, mean)</th>\n",
       "    </tr>\n",
       "    <tr>\n",
       "      <th></th>\n",
       "      <th>count</th>\n",
       "      <th>mean</th>\n",
       "      <th>mean</th>\n",
       "      <th>mean</th>\n",
       "      <th>mean</th>\n",
       "      <th>mean</th>\n",
       "      <th>mean</th>\n",
       "    </tr>\n",
       "    <tr>\n",
       "      <th>category</th>\n",
       "      <th></th>\n",
       "      <th></th>\n",
       "      <th></th>\n",
       "      <th></th>\n",
       "      <th></th>\n",
       "      <th></th>\n",
       "      <th></th>\n",
       "    </tr>\n",
       "  </thead>\n",
       "  <tbody>\n",
       "    <tr>\n",
       "      <th>Grants</th>\n",
       "      <td>3</td>\n",
       "      <td>3.988889</td>\n",
       "      <td>3.222222</td>\n",
       "      <td>3.888889</td>\n",
       "      <td>4.555556</td>\n",
       "      <td>3.777778</td>\n",
       "      <td>4.111111</td>\n",
       "    </tr>\n",
       "    <tr>\n",
       "      <th>Protocol</th>\n",
       "      <td>8</td>\n",
       "      <td>4.136339</td>\n",
       "      <td>4.225000</td>\n",
       "      <td>3.927679</td>\n",
       "      <td>4.045536</td>\n",
       "      <td>3.660714</td>\n",
       "      <td>4.174107</td>\n",
       "    </tr>\n",
       "    <tr>\n",
       "      <th>Service</th>\n",
       "      <td>3</td>\n",
       "      <td>4.116667</td>\n",
       "      <td>3.833333</td>\n",
       "      <td>4.666667</td>\n",
       "      <td>4.166667</td>\n",
       "      <td>3.166667</td>\n",
       "      <td>3.833333</td>\n",
       "    </tr>\n",
       "    <tr>\n",
       "      <th>Social</th>\n",
       "      <td>3</td>\n",
       "      <td>4.054167</td>\n",
       "      <td>4.033333</td>\n",
       "      <td>4.208333</td>\n",
       "      <td>4.208333</td>\n",
       "      <td>3.983333</td>\n",
       "      <td>4.141667</td>\n",
       "    </tr>\n",
       "    <tr>\n",
       "      <th>Uncategorized</th>\n",
       "      <td>2</td>\n",
       "      <td>4.050000</td>\n",
       "      <td>3.000000</td>\n",
       "      <td>3.000000</td>\n",
       "      <td>3.500000</td>\n",
       "      <td>4.500000</td>\n",
       "      <td>3.500000</td>\n",
       "    </tr>\n",
       "  </tbody>\n",
       "</table>\n",
       "</div>"
      ],
      "text/plain": [
       "              daoName (sentiment_score, mean) (decisionmaking_agency, mean)  \\\n",
       "                count                    mean                          mean   \n",
       "category                                                                      \n",
       "Grants              3                3.988889                      3.222222   \n",
       "Protocol            8                4.136339                      4.225000   \n",
       "Service             3                4.116667                      3.833333   \n",
       "Social              3                4.054167                      4.033333   \n",
       "Uncategorized       2                4.050000                      3.000000   \n",
       "\n",
       "              (decisionmaking_trust, mean) (mission_accomplished, mean)  \\\n",
       "                                      mean                         mean   \n",
       "category                                                                  \n",
       "Grants                            3.888889                     4.555556   \n",
       "Protocol                          3.927679                     4.045536   \n",
       "Service                           4.666667                     4.166667   \n",
       "Social                            4.208333                     4.208333   \n",
       "Uncategorized                     3.000000                     3.500000   \n",
       "\n",
       "              (want_need, mean) (fulfillment, mean)  \n",
       "                           mean                mean  \n",
       "category                                             \n",
       "Grants                 3.777778            4.111111  \n",
       "Protocol               3.660714            4.174107  \n",
       "Service                3.166667            3.833333  \n",
       "Social                 3.983333            4.141667  \n",
       "Uncategorized          4.500000            3.500000  "
      ]
     },
     "execution_count": 33,
     "metadata": {},
     "output_type": "execute_result"
    }
   ],
   "source": [
    "gb_category = df_all.groupby('category').agg({'daoName': ['count'],\n",
    "                                  **{c: ['mean'] for c in survey_columns}})\n",
    "gb_category = gb_category[gb_category['daoName']['count'] > 1]\n",
    "gb_category"
   ]
  },
  {
   "cell_type": "code",
   "execution_count": 34,
   "metadata": {},
   "outputs": [
    {
     "data": {
      "image/png": "[encoded data removed]",
      "text/plain": [
       "<Figure size 1152x432 with 1 Axes>"
      ]
     },
     "metadata": {
      "needs_background": "light"
     },
     "output_type": "display_data"
    },
    {
     "data": {
      "image/png": "[encoded data removed]",
      "text/plain": [
       "<Figure size 1152x432 with 1 Axes>"
      ]
     },
     "metadata": {
      "needs_background": "light"
     },
     "output_type": "display_data"
    },
    {
     "data": {
      "image/png": "[encoded data removed]",
      "text/plain": [
       "<Figure size 1152x432 with 1 Axes>"
      ]
     },
     "metadata": {
      "needs_background": "light"
     },
     "output_type": "display_data"
    }
   ],
   "source": [
    "for c in gb_category.columns[1::2]:\n",
    "    df = gb_category[c]\n",
    "    plt.figure(figsize=(16, 6))\n",
    "    sns.barplot(x=gb_category.index, y=c, data=gb_category, ci=None)\n",
    "    plt.xlabel('Category', fontsize=18)\n",
    "    plt.savefig(os.path.join(TMPDIR, \"survey_vs_category.svg\"), dpi=300)\n",
    "    plt.savefig(os.path.join(TMPDIR, \"survey_vs_category.png\"), dpi=300)"
   ]
  }
 ],
 "metadata": {
  "interpreter": {
   "hash": "779319e8d0c9cb286fc27f8b881cb3134a75a38bfb5645a8c7e51f4bba0a5a60"
  },
  "kernelspec": {
   "display_name": "Python 3.9.7 ('buidl')",
   "language": "python",
   "name": "python3"
  },
  "language_info": {
   "codemirror_mode": {
    "name": "ipython",
    "version": 3
   },
   "file_extension": ".py",
   "mimetype": "text/x-python",
   "name": "python",
   "nbconvert_exporter": "python",
   "pygments_lexer": "ipython3",
   "version": "3.9.7"
  },
  "orig_nbformat": 4
 },
 "nbformat": 4,
 "nbformat_minor": 2
}
